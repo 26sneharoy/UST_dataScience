{
  "nbformat": 4,
  "nbformat_minor": 0,
  "metadata": {
    "colab": {
      "name": "UST.ipynb",
      "provenance": [],
      "collapsed_sections": [],
      "authorship_tag": "ABX9TyNt+QrdoNVkMgamGAi2znfb",
      "include_colab_link": true
    },
    "kernelspec": {
      "name": "python3",
      "display_name": "Python 3"
    },
    "language_info": {
      "name": "python"
    }
  },
  "cells": [
    {
      "cell_type": "markdown",
      "metadata": {
        "id": "view-in-github",
        "colab_type": "text"
      },
      "source": [
        "<a href=\"https://colab.research.google.com/github/26sneharoy/UST_dataScience/blob/main/UST.ipynb\" target=\"_parent\"><img src=\"https://colab.research.google.com/assets/colab-badge.svg\" alt=\"Open In Colab\"/></a>"
      ]
    },
    {
      "cell_type": "markdown",
      "source": [
        "**STEP 1 **- Import the required libraries,here we are importing \n",
        "pandas as used since we have to take the csv file and use it for coding that is for analysing the data,\n",
        "matplotlib"
      ],
      "metadata": {
        "id": "R40-KHuAHfmz"
      }
    },
    {
      "cell_type": "code",
      "execution_count": 206,
      "metadata": {
        "id": "gvITyHz14PVo"
      },
      "outputs": [],
      "source": [
        "import pandas as pd"
      ]
    },
    {
      "cell_type": "markdown",
      "source": [
        "**STEP 2**- analysing the data"
      ],
      "metadata": {
        "id": "Y1qzMXcPJG9x"
      }
    },
    {
      "cell_type": "code",
      "source": [
        "data = pd.read_csv(\"/content/US_births_1994-2003_CDC_NCHS.csv\")"
      ],
      "metadata": {
        "id": "3JAGJWZX5FnI"
      },
      "execution_count": 207,
      "outputs": []
    },
    {
      "cell_type": "markdown",
      "source": [
        "**STEP 3**-checking the data"
      ],
      "metadata": {
        "id": "3vUbSL_DJKrB"
      }
    },
    {
      "cell_type": "code",
      "source": [
        "data\n"
      ],
      "metadata": {
        "colab": {
          "base_uri": "https://localhost:8080/",
          "height": 424
        },
        "id": "UuGtdHuu5pck",
        "outputId": "caca96c9-fb71-4c3f-ef09-56609bbe2fc7"
      },
      "execution_count": 251,
      "outputs": [
        {
          "output_type": "execute_result",
          "data": {
            "text/plain": [
              "      year  month  date_of_month  day_of_week  births\n",
              "0     1994      1              1            6    8096\n",
              "1     1994      1              2            7    7772\n",
              "2     1994      1              3            1   10142\n",
              "3     1994      1              4            2   11248\n",
              "4     1994      1              5            3   11053\n",
              "...    ...    ...            ...          ...     ...\n",
              "3647  2003     12             27            6    8646\n",
              "3648  2003     12             28            7    7645\n",
              "3649  2003     12             29            1   12823\n",
              "3650  2003     12             30            2   14438\n",
              "3651  2003     12             31            3   12374\n",
              "\n",
              "[3652 rows x 5 columns]"
            ],
            "text/html": [
              "\n",
              "  <div id=\"df-e03ca9e7-2dfb-473f-b9cf-05e675bca7c6\">\n",
              "    <div class=\"colab-df-container\">\n",
              "      <div>\n",
              "<style scoped>\n",
              "    .dataframe tbody tr th:only-of-type {\n",
              "        vertical-align: middle;\n",
              "    }\n",
              "\n",
              "    .dataframe tbody tr th {\n",
              "        vertical-align: top;\n",
              "    }\n",
              "\n",
              "    .dataframe thead th {\n",
              "        text-align: right;\n",
              "    }\n",
              "</style>\n",
              "<table border=\"1\" class=\"dataframe\">\n",
              "  <thead>\n",
              "    <tr style=\"text-align: right;\">\n",
              "      <th></th>\n",
              "      <th>year</th>\n",
              "      <th>month</th>\n",
              "      <th>date_of_month</th>\n",
              "      <th>day_of_week</th>\n",
              "      <th>births</th>\n",
              "    </tr>\n",
              "  </thead>\n",
              "  <tbody>\n",
              "    <tr>\n",
              "      <th>0</th>\n",
              "      <td>1994</td>\n",
              "      <td>1</td>\n",
              "      <td>1</td>\n",
              "      <td>6</td>\n",
              "      <td>8096</td>\n",
              "    </tr>\n",
              "    <tr>\n",
              "      <th>1</th>\n",
              "      <td>1994</td>\n",
              "      <td>1</td>\n",
              "      <td>2</td>\n",
              "      <td>7</td>\n",
              "      <td>7772</td>\n",
              "    </tr>\n",
              "    <tr>\n",
              "      <th>2</th>\n",
              "      <td>1994</td>\n",
              "      <td>1</td>\n",
              "      <td>3</td>\n",
              "      <td>1</td>\n",
              "      <td>10142</td>\n",
              "    </tr>\n",
              "    <tr>\n",
              "      <th>3</th>\n",
              "      <td>1994</td>\n",
              "      <td>1</td>\n",
              "      <td>4</td>\n",
              "      <td>2</td>\n",
              "      <td>11248</td>\n",
              "    </tr>\n",
              "    <tr>\n",
              "      <th>4</th>\n",
              "      <td>1994</td>\n",
              "      <td>1</td>\n",
              "      <td>5</td>\n",
              "      <td>3</td>\n",
              "      <td>11053</td>\n",
              "    </tr>\n",
              "    <tr>\n",
              "      <th>...</th>\n",
              "      <td>...</td>\n",
              "      <td>...</td>\n",
              "      <td>...</td>\n",
              "      <td>...</td>\n",
              "      <td>...</td>\n",
              "    </tr>\n",
              "    <tr>\n",
              "      <th>3647</th>\n",
              "      <td>2003</td>\n",
              "      <td>12</td>\n",
              "      <td>27</td>\n",
              "      <td>6</td>\n",
              "      <td>8646</td>\n",
              "    </tr>\n",
              "    <tr>\n",
              "      <th>3648</th>\n",
              "      <td>2003</td>\n",
              "      <td>12</td>\n",
              "      <td>28</td>\n",
              "      <td>7</td>\n",
              "      <td>7645</td>\n",
              "    </tr>\n",
              "    <tr>\n",
              "      <th>3649</th>\n",
              "      <td>2003</td>\n",
              "      <td>12</td>\n",
              "      <td>29</td>\n",
              "      <td>1</td>\n",
              "      <td>12823</td>\n",
              "    </tr>\n",
              "    <tr>\n",
              "      <th>3650</th>\n",
              "      <td>2003</td>\n",
              "      <td>12</td>\n",
              "      <td>30</td>\n",
              "      <td>2</td>\n",
              "      <td>14438</td>\n",
              "    </tr>\n",
              "    <tr>\n",
              "      <th>3651</th>\n",
              "      <td>2003</td>\n",
              "      <td>12</td>\n",
              "      <td>31</td>\n",
              "      <td>3</td>\n",
              "      <td>12374</td>\n",
              "    </tr>\n",
              "  </tbody>\n",
              "</table>\n",
              "<p>3652 rows × 5 columns</p>\n",
              "</div>\n",
              "      <button class=\"colab-df-convert\" onclick=\"convertToInteractive('df-e03ca9e7-2dfb-473f-b9cf-05e675bca7c6')\"\n",
              "              title=\"Convert this dataframe to an interactive table.\"\n",
              "              style=\"display:none;\">\n",
              "        \n",
              "  <svg xmlns=\"http://www.w3.org/2000/svg\" height=\"24px\"viewBox=\"0 0 24 24\"\n",
              "       width=\"24px\">\n",
              "    <path d=\"M0 0h24v24H0V0z\" fill=\"none\"/>\n",
              "    <path d=\"M18.56 5.44l.94 2.06.94-2.06 2.06-.94-2.06-.94-.94-2.06-.94 2.06-2.06.94zm-11 1L8.5 8.5l.94-2.06 2.06-.94-2.06-.94L8.5 2.5l-.94 2.06-2.06.94zm10 10l.94 2.06.94-2.06 2.06-.94-2.06-.94-.94-2.06-.94 2.06-2.06.94z\"/><path d=\"M17.41 7.96l-1.37-1.37c-.4-.4-.92-.59-1.43-.59-.52 0-1.04.2-1.43.59L10.3 9.45l-7.72 7.72c-.78.78-.78 2.05 0 2.83L4 21.41c.39.39.9.59 1.41.59.51 0 1.02-.2 1.41-.59l7.78-7.78 2.81-2.81c.8-.78.8-2.07 0-2.86zM5.41 20L4 18.59l7.72-7.72 1.47 1.35L5.41 20z\"/>\n",
              "  </svg>\n",
              "      </button>\n",
              "      \n",
              "  <style>\n",
              "    .colab-df-container {\n",
              "      display:flex;\n",
              "      flex-wrap:wrap;\n",
              "      gap: 12px;\n",
              "    }\n",
              "\n",
              "    .colab-df-convert {\n",
              "      background-color: #E8F0FE;\n",
              "      border: none;\n",
              "      border-radius: 50%;\n",
              "      cursor: pointer;\n",
              "      display: none;\n",
              "      fill: #1967D2;\n",
              "      height: 32px;\n",
              "      padding: 0 0 0 0;\n",
              "      width: 32px;\n",
              "    }\n",
              "\n",
              "    .colab-df-convert:hover {\n",
              "      background-color: #E2EBFA;\n",
              "      box-shadow: 0px 1px 2px rgba(60, 64, 67, 0.3), 0px 1px 3px 1px rgba(60, 64, 67, 0.15);\n",
              "      fill: #174EA6;\n",
              "    }\n",
              "\n",
              "    [theme=dark] .colab-df-convert {\n",
              "      background-color: #3B4455;\n",
              "      fill: #D2E3FC;\n",
              "    }\n",
              "\n",
              "    [theme=dark] .colab-df-convert:hover {\n",
              "      background-color: #434B5C;\n",
              "      box-shadow: 0px 1px 3px 1px rgba(0, 0, 0, 0.15);\n",
              "      filter: drop-shadow(0px 1px 2px rgba(0, 0, 0, 0.3));\n",
              "      fill: #FFFFFF;\n",
              "    }\n",
              "  </style>\n",
              "\n",
              "      <script>\n",
              "        const buttonEl =\n",
              "          document.querySelector('#df-e03ca9e7-2dfb-473f-b9cf-05e675bca7c6 button.colab-df-convert');\n",
              "        buttonEl.style.display =\n",
              "          google.colab.kernel.accessAllowed ? 'block' : 'none';\n",
              "\n",
              "        async function convertToInteractive(key) {\n",
              "          const element = document.querySelector('#df-e03ca9e7-2dfb-473f-b9cf-05e675bca7c6');\n",
              "          const dataTable =\n",
              "            await google.colab.kernel.invokeFunction('convertToInteractive',\n",
              "                                                     [key], {});\n",
              "          if (!dataTable) return;\n",
              "\n",
              "          const docLinkHtml = 'Like what you see? Visit the ' +\n",
              "            '<a target=\"_blank\" href=https://colab.research.google.com/notebooks/data_table.ipynb>data table notebook</a>'\n",
              "            + ' to learn more about interactive tables.';\n",
              "          element.innerHTML = '';\n",
              "          dataTable['output_type'] = 'display_data';\n",
              "          await google.colab.output.renderOutput(dataTable, element);\n",
              "          const docLink = document.createElement('div');\n",
              "          docLink.innerHTML = docLinkHtml;\n",
              "          element.appendChild(docLink);\n",
              "        }\n",
              "      </script>\n",
              "    </div>\n",
              "  </div>\n",
              "  "
            ]
          },
          "metadata": {},
          "execution_count": 251
        }
      ]
    },
    {
      "cell_type": "markdown",
      "source": [
        "**STEP 4**-Here we are with the preprocessing step. For that we are importing standardscalar inorder to standarise the range of inputdataset"
      ],
      "metadata": {
        "id": "_vlzyM6tJj2q"
      }
    },
    {
      "cell_type": "code",
      "source": [
        "from sklearn.preprocessing import StandardScaler\n",
        "scaler = StandardScaler()"
      ],
      "metadata": {
        "id": "5bULnCJNF01S"
      },
      "execution_count": 226,
      "outputs": []
    },
    {
      "cell_type": "code",
      "source": [
        "scaler.fit(data.drop('year',axis=1))\n",
        "scaled_features = scaler.transform(data.drop('year',axis=1))"
      ],
      "metadata": {
        "id": "AbxhbnHdF5gm"
      },
      "execution_count": 210,
      "outputs": []
    },
    {
      "cell_type": "markdown",
      "source": [
        "**STEP 5**-Since we are using knn as it is a supervised learning algorithm we need to train the code. Inorder to train we spliting the data and training "
      ],
      "metadata": {
        "id": "Fj-s8NJaKQIC"
      }
    },
    {
      "cell_type": "code",
      "source": [
        "from sklearn.model_selection import train_test_split"
      ],
      "metadata": {
        "id": "AjKzf-PI9zJd"
      },
      "execution_count": 252,
      "outputs": []
    },
    {
      "cell_type": "code",
      "source": [
        "x_train, x_test, y_train, y_test = train_test_split(scaled_features,data['year'],\n",
        "                                                    test_size=0.30)"
      ],
      "metadata": {
        "id": "wJXdacM09450"
      },
      "execution_count": 212,
      "outputs": []
    },
    {
      "cell_type": "markdown",
      "source": [
        " **STEP **6- Here we are importing the kneighborsclassifier for the classification of the data"
      ],
      "metadata": {
        "id": "xpHakYXdKmCz"
      }
    },
    {
      "cell_type": "code",
      "source": [
        "from sklearn.neighbors import KNeighborsClassifier"
      ],
      "metadata": {
        "id": "bgWaLgU29-Uk"
      },
      "execution_count": 213,
      "outputs": []
    },
    {
      "cell_type": "markdown",
      "source": [
        "**STEP 7**-Here we are assigning the number of neighbors to be 3 "
      ],
      "metadata": {
        "id": "Q-gxwweJLYux"
      }
    },
    {
      "cell_type": "code",
      "source": [
        "knn = KNeighborsClassifier(n_neighbors=3)"
      ],
      "metadata": {
        "id": "De5bVzTf-BJK"
      },
      "execution_count": 229,
      "outputs": []
    },
    {
      "cell_type": "code",
      "source": [
        "knn.fit(x_train,y_train)"
      ],
      "metadata": {
        "colab": {
          "base_uri": "https://localhost:8080/"
        },
        "id": "YyHd6FI0-Dy7",
        "outputId": "b352f0fa-2219-420f-f4ca-78cfd4712500"
      },
      "execution_count": 230,
      "outputs": [
        {
          "output_type": "execute_result",
          "data": {
            "text/plain": [
              "KNeighborsClassifier(n_neighbors=3)"
            ]
          },
          "metadata": {},
          "execution_count": 230
        }
      ]
    },
    {
      "cell_type": "markdown",
      "source": [
        "**STEP 8**-In this we are predicting the values using the x_test"
      ],
      "metadata": {
        "id": "4bcRWY8EMIDB"
      }
    },
    {
      "cell_type": "code",
      "source": [
        "pred = knn.predict(x_test)\n",
        "pred"
      ],
      "metadata": {
        "colab": {
          "base_uri": "https://localhost:8080/"
        },
        "id": "A9JlncCp-G2F",
        "outputId": "539f594d-644f-4f47-8f47-8dcd4bc34eef"
      },
      "execution_count": 231,
      "outputs": [
        {
          "output_type": "execute_result",
          "data": {
            "text/plain": [
              "array([1997, 1999, 1995, ..., 1998, 1996, 1994])"
            ]
          },
          "metadata": {},
          "execution_count": 231
        }
      ]
    },
    {
      "cell_type": "markdown",
      "source": [
        "**STEP 9**-Importing the libraries to produce the confusion matrix, accuracy score and the classification report"
      ],
      "metadata": {
        "id": "VQzzASmoMRYC"
      }
    },
    {
      "cell_type": "code",
      "source": [
        "from sklearn.metrics import classification_report,confusion_matrix,accuracy_score"
      ],
      "metadata": {
        "id": "adnr8cSd-JzN"
      },
      "execution_count": 232,
      "outputs": []
    },
    {
      "cell_type": "markdown",
      "source": [
        " **STEP 10**-Classification report produces a report which shows the precisions  using the tested value and the predicted value"
      ],
      "metadata": {
        "id": "np90LXBXMeeh"
      }
    },
    {
      "cell_type": "code",
      "source": [
        "print(classification_report(y_test,pred))"
      ],
      "metadata": {
        "colab": {
          "base_uri": "https://localhost:8080/"
        },
        "id": "tJzs4LdSMj2S",
        "outputId": "b882e792-39d8-4c60-c72f-955ef57868db"
      },
      "execution_count": 241,
      "outputs": [
        {
          "output_type": "stream",
          "name": "stdout",
          "text": [
            "              precision    recall  f1-score   support\n",
            "\n",
            "        1994       0.00      0.00      0.00       105\n",
            "        1995       0.00      0.00      0.00       106\n",
            "        1996       0.02      0.02      0.02       109\n",
            "        1997       0.00      0.00      0.00       118\n",
            "        1998       0.01      0.01      0.01       100\n",
            "        1999       0.00      0.00      0.00       117\n",
            "        2000       0.00      0.00      0.00       109\n",
            "        2001       0.01      0.01      0.01       111\n",
            "        2002       0.00      0.00      0.00       112\n",
            "        2003       0.01      0.01      0.01       109\n",
            "\n",
            "    accuracy                           0.00      1096\n",
            "   macro avg       0.01      0.00      0.00      1096\n",
            "weighted avg       0.00      0.00      0.00      1096\n",
            "\n"
          ]
        }
      ]
    },
    {
      "cell_type": "markdown",
      "source": [
        "**STEP 11-**The confusion matrix shows the performance of the classification in the matrix format"
      ],
      "metadata": {
        "id": "-Rx6ExopNVhx"
      }
    },
    {
      "cell_type": "code",
      "source": [
        "print(confusion_matrix(y_test,pred))"
      ],
      "metadata": {
        "colab": {
          "base_uri": "https://localhost:8080/"
        },
        "id": "geZ0_dUB-Kig",
        "outputId": "b159d62e-b8e2-40a3-e861-1e0c347e046b"
      },
      "execution_count": 242,
      "outputs": [
        {
          "output_type": "stream",
          "name": "stdout",
          "text": [
            "[[ 0 35  2  0  3 36 27  2  0  0]\n",
            " [41  0 17  2  0  2 29 12  3  0]\n",
            " [ 1 18  2 47  9  0  1 11 17  3]\n",
            " [ 3  3 35  0 48  2  0  1 10 16]\n",
            " [ 9  1  5 36  1 39  0  0  2  7]\n",
            " [38  4  0  7 52  0 11  0  1  4]\n",
            " [14 30  1  2  1 10  0 43  6  2]\n",
            " [ 2 18  7  2  0  1 31  1 42  7]\n",
            " [ 0  1 22 13  4  1  5 32  0 34]\n",
            " [ 1  0  5 17  9  6  3 17 50  1]]\n"
          ]
        }
      ]
    },
    {
      "cell_type": "markdown",
      "source": [
        "**STEP 12**-Accuracey score depicts the accuracy in the prediction of the classification"
      ],
      "metadata": {
        "id": "2WNXH1YUO695"
      }
    },
    {
      "cell_type": "code",
      "source": [
        "print(accuracy_score(pred,y_test))"
      ],
      "metadata": {
        "colab": {
          "base_uri": "https://localhost:8080/"
        },
        "id": "1LL_1aCi-Mvh",
        "outputId": "aebf7912-4d8f-4563-8c99-2e0de5c9e4c1"
      },
      "execution_count": 243,
      "outputs": [
        {
          "output_type": "stream",
          "name": "stdout",
          "text": [
            "0.004562043795620438\n"
          ]
        }
      ]
    },
    {
      "cell_type": "markdown",
      "source": [
        "**STEP 13**-Importing numpy since we are going to work with arrays for finding the error rate."
      ],
      "metadata": {
        "id": "2uTFEzsIIiHN"
      }
    },
    {
      "cell_type": "code",
      "source": [
        "import numpy as np"
      ],
      "metadata": {
        "id": "pjfinuJWH2Ib"
      },
      "execution_count": 235,
      "outputs": []
    },
    {
      "cell_type": "markdown",
      "source": [
        "**STEP 14**-Here we are finding the error rate difference between the actual and predicted"
      ],
      "metadata": {
        "id": "UCWX8DbTPu5I"
      }
    },
    {
      "cell_type": "code",
      "source": [
        "error_rate = []\n",
        "\n",
        "for i in range(1,40):\n",
        "    \n",
        "    knn = KNeighborsClassifier(n_neighbors=i)\n",
        "    knn.fit(x_train,y_train)\n",
        "    pred_i = knn.predict(x_test)\n",
        "    error_rate.append(np.mean(pred_i != y_test))"
      ],
      "metadata": {
        "id": "alWV6pkh-UOa"
      },
      "execution_count": 236,
      "outputs": []
    },
    {
      "cell_type": "markdown",
      "source": [
        "**STEP 15**-Here we are importing the matplotlib as this library helps to visualisation of data."
      ],
      "metadata": {
        "id": "MHNNsJkTIjkR"
      }
    },
    {
      "cell_type": "code",
      "source": [
        "import matplotlib.pyplot as plt"
      ],
      "metadata": {
        "id": "pHWSaR7SIejh"
      },
      "execution_count": 237,
      "outputs": []
    },
    {
      "cell_type": "code",
      "source": [
        "plt.figure(figsize=(10,6))\n",
        "plt.plot(range(1,40),error_rate,color='blue', linestyle='dashed', marker='o',\n",
        "         markerfacecolor='red', markersize=10)\n",
        "plt.title('Error Rate vs. K Value')\n",
        "plt.xlabel('K')\n",
        "plt.ylabel('Error Rate')"
      ],
      "metadata": {
        "colab": {
          "base_uri": "https://localhost:8080/",
          "height": 421
        },
        "id": "OiFmVpCi-VX2",
        "outputId": "c56e13ab-4fc5-412a-cac1-7abc117ce335"
      },
      "execution_count": 238,
      "outputs": [
        {
          "output_type": "execute_result",
          "data": {
            "text/plain": [
              "Text(0, 0.5, 'Error Rate')"
            ]
          },
          "metadata": {},
          "execution_count": 238
        },
        {
          "output_type": "display_data",
          "data": {
            "text/plain": [
              "<Figure size 720x432 with 1 Axes>"
            ],
            "image/png": "[encoded data removed]"
          },
          "metadata": {
            "needs_background": "light"
          }
        }
      ]
    },
    {
      "cell_type": "markdown",
      "source": [
        "**STEP 16**-we are trying the same with the number of neighbors 1"
      ],
      "metadata": {
        "id": "MqkXKsNbRI9Y"
      }
    },
    {
      "cell_type": "code",
      "source": [
        "knn1 = KNeighborsClassifier(n_neighbors=1)\n",
        "\n",
        "knn1.fit(x_train,y_train)\n",
        "pred1 = knn1.predict(x_test)\n",
        "\n",
        "print('WITH K=1')\n",
        "print('\\n')\n",
        "print(confusion_matrix(y_test,pred1))"
      ],
      "metadata": {
        "colab": {
          "base_uri": "https://localhost:8080/"
        },
        "id": "vUrWgwoZ-o_r",
        "outputId": "26557038-7989-46c9-a444-814a80081920"
      },
      "execution_count": 249,
      "outputs": [
        {
          "output_type": "stream",
          "name": "stdout",
          "text": [
            "WITH K=1\n",
            "\n",
            "\n",
            "[[ 0 35  2  0  3 36 27  2  0  0]\n",
            " [41  0 17  2  0  2 29 12  3  0]\n",
            " [ 1 18  2 47  9  0  1 11 17  3]\n",
            " [ 3  3 35  0 48  2  0  1 10 16]\n",
            " [ 9  1  5 36  1 39  0  0  2  7]\n",
            " [38  4  0  7 52  0 11  0  1  4]\n",
            " [14 30  1  2  1 10  0 43  6  2]\n",
            " [ 2 18  7  2  0  1 31  1 42  7]\n",
            " [ 0  1 22 13  4  1  5 32  0 34]\n",
            " [ 1  0  5 17  9  6  3 17 50  1]]\n"
          ]
        }
      ]
    },
    {
      "cell_type": "code",
      "source": [
        "print(classification_report(y_test,pred1))"
      ],
      "metadata": {
        "colab": {
          "base_uri": "https://localhost:8080/"
        },
        "id": "r9OzwlBdQ25I",
        "outputId": "bc16eb0a-00f6-49bf-9a1b-cda3abac4908"
      },
      "execution_count": 247,
      "outputs": [
        {
          "output_type": "stream",
          "name": "stdout",
          "text": [
            "              precision    recall  f1-score   support\n",
            "\n",
            "        1994       0.00      0.00      0.00       105\n",
            "        1995       0.00      0.00      0.00       106\n",
            "        1996       0.02      0.02      0.02       109\n",
            "        1997       0.00      0.00      0.00       118\n",
            "        1998       0.01      0.01      0.01       100\n",
            "        1999       0.00      0.00      0.00       117\n",
            "        2000       0.00      0.00      0.00       109\n",
            "        2001       0.01      0.01      0.01       111\n",
            "        2002       0.00      0.00      0.00       112\n",
            "        2003       0.01      0.01      0.01       109\n",
            "\n",
            "    accuracy                           0.00      1096\n",
            "   macro avg       0.01      0.00      0.00      1096\n",
            "weighted avg       0.00      0.00      0.00      1096\n",
            "\n"
          ]
        }
      ]
    },
    {
      "cell_type": "code",
      "source": [
        "print(accuracy_score(pred1,y_test))"
      ],
      "metadata": {
        "colab": {
          "base_uri": "https://localhost:8080/"
        },
        "id": "bjSauskYRCIZ",
        "outputId": "33740007-d91c-46fa-bece-18ff827314d1"
      },
      "execution_count": 248,
      "outputs": [
        {
          "output_type": "stream",
          "name": "stdout",
          "text": [
            "0.004562043795620438\n"
          ]
        }
      ]
    }
  ]
}